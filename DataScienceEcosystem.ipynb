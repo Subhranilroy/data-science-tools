{
 "cells": [
  {
   "cell_type": "markdown",
   "id": "7987369b-5f27-4fb6-9456-5a32431cc0b7",
   "metadata": {},
   "source": [
    "# Data Science Tools and Ecosystem\r\n"
   ]
  },
  {
   "cell_type": "markdown",
   "id": "dc5eaf11-3e51-40b3-b76c-0536673fce47",
   "metadata": {},
   "source": [
    "In this notebook, Data Science Tools and Ecosystem are summarized.\r\n"
   ]
  },
  {
   "cell_type": "markdown",
   "id": "cd1088c4-9379-426b-9d10-bd709dc1481e",
   "metadata": {},
   "source": [
    "Some of the popular languages that Data Scientists use are:\r\n",
    "\r\n",
    "1. Python  \r\n",
    "2. R  \r\n",
    "3. SQL  \r\n",
    "4. Julia  \r\n",
    "5. Scala\r\n"
   ]
  },
  {
   "cell_type": "markdown",
   "id": "5daa7dbb-87dd-413d-9722-dd635e64a343",
   "metadata": {},
   "source": [
    "Some of the commonly used libraries used by Data Scientists include:\r\n",
    "\r\n",
    "1. Pandas  \r\n",
    "2. NumPy  \r\n",
    "3. Matplotlib  \r\n",
    "4. Scikit-learn  \r\n",
    "5. TensorFlow\r\n"
   ]
  },
  {
   "cell_type": "markdown",
   "id": "faab12f5-f7e6-4b9d-b1e4-689056cfa409",
   "metadata": {},
   "source": [
    "Some of the commonly used libraries used by Data Scientists include:\r\n",
    "\r\n",
    "1. Pandas  \r\n",
    "2. NumPy  \r\n",
    "3. Matplotlib  \r\n",
    "4. Scikit-learn  \r\n",
    "5. Seaborn\r\n"
   ]
  },
  {
   "cell_type": "markdown",
   "id": "e3635fb8-690a-4270-add1-e1589e2d4f3b",
   "metadata": {},
   "source": [
    "| Data Science Tools       |\r\n",
    "|--------------------------|\r\n",
    "| Jupyter Notebook         |\r\n",
    "| RStudio                  |\r\n",
    "| Apache Zeppelin          |\r\n"
   ]
  },
  {
   "cell_type": "markdown",
   "id": "445dd1b5-0eba-4418-9951-55916ec9e2e6",
   "metadata": {},
   "source": [
    "### Below are a few examples of evaluating arithmetic expressions in Python.\r\n"
   ]
  },
  {
   "cell_type": "code",
   "execution_count": 1,
   "id": "6a3489f2-857a-49d9-8c23-44ae958419a4",
   "metadata": {},
   "outputs": [
    {
     "data": {
      "text/plain": [
       "17"
      ]
     },
     "execution_count": 1,
     "metadata": {},
     "output_type": "execute_result"
    }
   ],
   "source": [
    "# This is a simple arithmetic expression to multiply then add integers\n",
    "(3 * 4) + 5\n"
   ]
  },
  {
   "cell_type": "code",
   "execution_count": 2,
   "id": "df2f5e96-d17d-45e6-addc-42618aaf1429",
   "metadata": {},
   "outputs": [
    {
     "data": {
      "text/plain": [
       "3.3333333333333335"
      ]
     },
     "execution_count": 2,
     "metadata": {},
     "output_type": "execute_result"
    }
   ],
   "source": [
    "# This will convert 200 minutes to hours by dividing by 60\n",
    "200 / 60\n"
   ]
  },
  {
   "cell_type": "markdown",
   "id": "17bf736d-1420-4d98-a231-f25c3f80329f",
   "metadata": {},
   "source": [
    "**Objectives:**\r\n",
    "\r\n",
    "- List popular languages for Data Science  \r\n",
    "- Identify commonly used libraries in Data Science  \r\n",
    "- Create and format markdown cells in Jupyter Notebook  \r\n",
    "- Evaluate arithmetic expressions using Python code  \r\n",
    "- Convert minutes to hours using Python\r\n"
   ]
  },
  {
   "cell_type": "markdown",
   "id": "a35cc269-48f2-4221-8f4e-39433b9a946e",
   "metadata": {},
   "source": [
    "## Author\r\n",
    "\r\n",
    "Subhranil Roy\r\n"
   ]
  },
  {
   "cell_type": "code",
   "execution_count": null,
   "id": "9ad98084-3987-4be8-8d92-d74a7484d7d5",
   "metadata": {},
   "outputs": [],
   "source": []
  }
 ],
 "metadata": {
  "kernelspec": {
   "display_name": "Python 3 (ipykernel)",
   "language": "python",
   "name": "python3"
  },
  "language_info": {
   "codemirror_mode": {
    "name": "ipython",
    "version": 3
   },
   "file_extension": ".py",
   "mimetype": "text/x-python",
   "name": "python",
   "nbconvert_exporter": "python",
   "pygments_lexer": "ipython3",
   "version": "3.12.4"
  }
 },
 "nbformat": 4,
 "nbformat_minor": 5
}
